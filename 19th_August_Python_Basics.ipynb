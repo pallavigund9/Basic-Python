{
 "cells": [
  {
   "cell_type": "markdown",
   "id": "ea8f88d5",
   "metadata": {},
   "source": [
    "# Python Basics Variable\n"
   ]
  },
  {
   "cell_type": "markdown",
   "id": "de59bd58",
   "metadata": {},
   "source": [
    "'''1. Declare two variables, `x` and `y`, and assign them integer values. Swap the\n",
    "values of these variables without using any temporary variable.'''"
   ]
  },
  {
   "cell_type": "code",
   "execution_count": 1,
   "id": "0f082672",
   "metadata": {},
   "outputs": [
    {
     "name": "stdout",
     "output_type": "stream",
     "text": [
      "After swapping:\n",
      "x = 20\n",
      "y = 10\n"
     ]
    }
   ],
   "source": [
    "x = 10\n",
    "y = 20\n",
    "\n",
    "x, y = y, x   #Swap the values of x and y without using a temporary variable. \n",
    "\n",
    "print(\"After swapping:\")\n",
    "print(\"x =\", x)   #Print the values of x after swapping\n",
    "print(\"y =\", y)   # Print the vales of y after swapping"
   ]
  },
  {
   "cell_type": "markdown",
   "id": "59c8bb12",
   "metadata": {},
   "source": [
    "2. Create a program that calculates the area of a rectangle. Take the length and\n",
    "width as inputs from the user and store them in variables. Calculate and\n",
    "display the area."
   ]
  },
  {
   "cell_type": "code",
   "execution_count": 2,
   "id": "8eefe27d",
   "metadata": {},
   "outputs": [
    {
     "name": "stdout",
     "output_type": "stream",
     "text": [
      "Enter length : 10\n",
      "Enter Width : 3\n",
      "Area of rectangle is length * width =  30\n"
     ]
    }
   ],
   "source": [
    "# area = length * width\n",
    "l =int(input(\"Enter length : \")) # take inpt for user using input funtion and typecast it into integer\n",
    "w =int(input(\"Enter Width : \"))\n",
    "print(\"Area of rectangle is length * width = \",l*w) # print the area of rectangle using formula"
   ]
  },
  {
   "cell_type": "markdown",
   "id": "52647105",
   "metadata": {},
   "source": [
    "3. Write a Python program that converts temperatures from Celsius to\n",
    "Fahrenheit. Take the temperature in Celsius as input, store it in a variable,\n",
    "convert it to Fahrenheit, and display the result."
   ]
  },
  {
   "cell_type": "code",
   "execution_count": 3,
   "id": "b5fd58de",
   "metadata": {},
   "outputs": [
    {
     "name": "stdout",
     "output_type": "stream",
     "text": [
      "Enter your temperature : 0\n",
      "Temperature in Fahrenheit (°F) :  32.0\n"
     ]
    }
   ],
   "source": [
    "# Fahrenheit (°F) = (Celsius (°C) × 9/5) + 32\n",
    "temp = int(input(\"Enter your temperature : \"))\n",
    "print(\"Temperature in Fahrenheit (°F) : \",(temp * (9/5)) + 32)"
   ]
  },
  {
   "cell_type": "markdown",
   "id": "bdf00dca",
   "metadata": {},
   "source": [
    "# String Based Questions"
   ]
  },
  {
   "cell_type": "markdown",
   "id": "6e5d15a1",
   "metadata": {},
   "source": [
    "1. Write a Python program that takes a string as input and prints the length of\n",
    "the string."
   ]
  },
  {
   "cell_type": "code",
   "execution_count": 4,
   "id": "7f1f132f",
   "metadata": {},
   "outputs": [
    {
     "name": "stdout",
     "output_type": "stream",
     "text": [
      "Enter your stringHello World\n",
      "Print length of a is  11\n"
     ]
    }
   ],
   "source": [
    "a = input(\"Enter your string\")\n",
    "b = len(a)\n",
    "print(\"Print length of a is \",b)"
   ]
  },
  {
   "cell_type": "markdown",
   "id": "3a3ace37",
   "metadata": {},
   "source": [
    "2. Create a program that takes a sentence from the user and counts the number\n",
    "of vowels (a, e, i, o, u) in the string."
   ]
  },
  {
   "cell_type": "code",
   "execution_count": 5,
   "id": "0b75f248",
   "metadata": {},
   "outputs": [
    {
     "name": "stdout",
     "output_type": "stream",
     "text": [
      "Enter a sentence: Hello world. I am learning data science. No I am resolving assignment on basic python.\n",
      "Number of vowels in the sentence: 26\n"
     ]
    }
   ],
   "source": [
    "sentence = input(\"Enter a sentence: \")\n",
    "sentence = sentence.lower()  #Convert the sentence to lowercase\n",
    "vowels = 'aeiou'  #Define a string containing all the vowels\n",
    "vowel_count = sum(sentence.count(v) for v in vowels)  #Using the count() method and sum() to count the vowels in the sentence\n",
    "print(\"Number of vowels in the sentence:\", vowel_count)"
   ]
  },
  {
   "cell_type": "markdown",
   "id": "682daaf2",
   "metadata": {},
   "source": [
    "3. Given a string, reverse the order of characters using string slicing and print\n",
    "the reversed string."
   ]
  },
  {
   "cell_type": "code",
   "execution_count": 6,
   "id": "31557465",
   "metadata": {},
   "outputs": [
    {
     "data": {
      "text/plain": [
       "'ecneicS ataD'"
      ]
     },
     "execution_count": 6,
     "metadata": {},
     "output_type": "execute_result"
    }
   ],
   "source": [
    "a = \"Data Science\"\n",
    "a[::-1] # reverse string using string slicing"
   ]
  },
  {
   "cell_type": "markdown",
   "id": "1d406ff3",
   "metadata": {},
   "source": [
    "4. Write a program that takes a string as input and checks if it is a palindrome\n",
    "(reads the same forwards and backwards)."
   ]
  },
  {
   "cell_type": "code",
   "execution_count": 8,
   "id": "1c5820e6",
   "metadata": {},
   "outputs": [
    {
     "name": "stdout",
     "output_type": "stream",
     "text": [
      "Enter your string: level\n",
      "level\n",
      "level\n"
     ]
    }
   ],
   "source": [
    "b = input(\"Enter your string: \")\n",
    "c = b[0::1] #forward string\n",
    "d = b[::-1] #Reverse string\n",
    "print(c)\n",
    "print(d)"
   ]
  },
  {
   "cell_type": "markdown",
   "id": "5a4fec53",
   "metadata": {},
   "source": [
    "5. Create a program that takes a string as input and removes all the spaces from\n",
    "it. Print the modified string without spaces."
   ]
  },
  {
   "cell_type": "code",
   "execution_count": 9,
   "id": "da9707a1",
   "metadata": {},
   "outputs": [
    {
     "name": "stdout",
     "output_type": "stream",
     "text": [
      "Enter your string: Print the modified string without spaces\n",
      "String without spaces:  Printthemodifiedstringwithoutspaces\n"
     ]
    }
   ],
   "source": [
    "a = input(\"Enter your string: \")\n",
    "modified_a = a.replace(\" \",\"\") # used replace properties\n",
    "print(\"String without spaces: \",modified_a)"
   ]
  },
  {
   "cell_type": "code",
   "execution_count": null,
   "id": "339b7974",
   "metadata": {},
   "outputs": [],
   "source": []
  }
 ],
 "metadata": {
  "kernelspec": {
   "display_name": "Python 3 (ipykernel)",
   "language": "python",
   "name": "python3"
  },
  "language_info": {
   "codemirror_mode": {
    "name": "ipython",
    "version": 3
   },
   "file_extension": ".py",
   "mimetype": "text/x-python",
   "name": "python",
   "nbconvert_exporter": "python",
   "pygments_lexer": "ipython3",
   "version": "3.10.3"
  }
 },
 "nbformat": 4,
 "nbformat_minor": 5
}
